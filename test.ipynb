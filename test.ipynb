{
 "cells": [
  {
   "cell_type": "code",
   "execution_count": 1,
   "metadata": {},
   "outputs": [],
   "source": [
    "import string\n",
    "\n",
    "import aesara\n",
    "import aesara.sparse\n",
    "import aesara.tensor as aet\n",
    "import numpy as np\n",
    "import pandas as pd\n",
    "import scipy.sparse as sp\n",
    "\n",
    "from tabmat import CategoricalMatrix\n",
    "\n",
    "import sparsedot"
   ]
  },
  {
   "cell_type": "markdown",
   "metadata": {},
   "source": [
    "The `sparsedot` module implements functions for the computation of the dot product between a sparse matrix $X$ and a column vector $y$. These functions are implemented using the NumPy C-API. \n",
    "\n",
    "This module contains the following functions:\n",
    "\n",
    "* `matrix_vector()`: Applies for the most general case where the $X$ is a sparse matrix of any type.\n",
    "* `binary_matrix_vector()`: Applies when $X$ is a binary sparse matrix, i.e. a matrix that contains 0s and 1s.\n",
    "* `single_binary_matrix_vector()`: Applies when $X$ is a binary sparse matrix that contain one, and only one, 1 value per row."
   ]
  },
  {
   "cell_type": "code",
   "execution_count": 2,
   "metadata": {},
   "outputs": [
    {
     "data": {
      "text/plain": [
       "104"
      ]
     },
     "execution_count": 2,
     "metadata": {},
     "output_type": "execute_result"
    }
   ],
   "source": [
    "# The \"categorical variables\"\n",
    "strings = list(string.ascii_lowercase) + list(string.ascii_uppercase)\n",
    "strings += [s * 2 for s in strings]\n",
    "len(strings)"
   ]
  },
  {
   "cell_type": "code",
   "execution_count": 3,
   "metadata": {},
   "outputs": [],
   "source": [
    "class Matrix:\n",
    "    def __init__(self, X):\n",
    "        X_sp = sp.csr_matrix(X)\n",
    "        self.offset = X_sp.indptr\n",
    "        self.column = X_sp.indices\n",
    "        self.value = X_sp.data\n",
    "        self.length = X.shape[0]\n",
    "    \n",
    "    def dot(self, other):\n",
    "        result = np.zeros(self.length, dtype=other.dtype)\n",
    "        sparsedot.matrix_vector(self.offset, self.column, self.value, other, result)\n",
    "        return result\n",
    "\n",
    "\n",
    "class BinaryMatrix:\n",
    "    def __init__(self, X):\n",
    "        self.length = X.shape[0]\n",
    "        self.X_indices = np.ascontiguousarray(np.vstack(np.where(X != 0)).T).astype(np.int32)\n",
    "        \n",
    "    def dot(self, other):\n",
    "        result = np.zeros(self.length, dtype=other.dtype)\n",
    "        sparsedot.binary_matrix_vector(self.X_indices, other, result)\n",
    "        return result\n",
    "\n",
    "\n",
    "class SingleBinaryMatrix:\n",
    "    def __init__(self, X):\n",
    "        self.length = X.shape[0]\n",
    "        self.indices = np.ascontiguousarray(np.where(X != 0)[1]).astype(np.int32)\n",
    "    \n",
    "    def dot(self, other):\n",
    "        result = np.zeros(self.length, dtype=other.dtype)\n",
    "        sparsedot.single_binary_matrix_vector(self.indices, other, result)\n",
    "        return result\n"
   ]
  },
  {
   "cell_type": "code",
   "execution_count": 4,
   "metadata": {},
   "outputs": [],
   "source": [
    "y = np.arange(len(strings), dtype=np.float64)"
   ]
  },
  {
   "cell_type": "code",
   "execution_count": 5,
   "metadata": {},
   "outputs": [],
   "source": [
    "x = np.random.choice(strings, size=1000)\n",
    "X = np.asarray(pd.get_dummies(x))\n",
    "X_sp = sp.csr_matrix(X)\n",
    "matrix = Matrix(X)\n",
    "binary_matrix = BinaryMatrix(X)\n",
    "single_binary_matrix = SingleBinaryMatrix(X)\n",
    "tbmat = CategoricalMatrix(x)"
   ]
  },
  {
   "cell_type": "markdown",
   "metadata": {},
   "source": [
    "Defining Aesara stuff..."
   ]
  },
  {
   "cell_type": "code",
   "execution_count": 6,
   "metadata": {},
   "outputs": [],
   "source": [
    "aet_x = aet.dmatrix(\"x\")\n",
    "aet_y = aet.dvector(\"y\")\n",
    "aet_Y = aet.dmatrix(\"y\")\n",
    "\n",
    "x_sparse = aesara.sparse.CSR(X_sp.data, X_sp.indices, X_sp.indptr, X_sp.shape)\n",
    "\n",
    "aet_dot = aesara.function([aet_x, aet_y], aet.dot(aet_x, aet_y))\n",
    "aet_sparse_dot = aesara.function([x_sparse, aet_Y], aesara.sparse.structured_dot(x_sparse, aet_Y))"
   ]
  },
  {
   "cell_type": "code",
   "execution_count": 7,
   "metadata": {},
   "outputs": [
    {
     "name": "stdout",
     "output_type": "stream",
     "text": [
      "Matrix\n",
      "3.36 µs ± 127 ns per loop (mean ± std. dev. of 7 runs, 100000 loops each)\n",
      "\n",
      "Binary Matrix\n",
      "2.24 µs ± 10.7 ns per loop (mean ± std. dev. of 7 runs, 100000 loops each)\n",
      "\n",
      "Single Binary Matrix\n",
      "1.98 µs ± 58.1 ns per loop (mean ± std. dev. of 7 runs, 1000000 loops each)\n",
      "\n",
      "NumPy dense\n",
      "81.8 µs ± 9.51 µs per loop (mean ± std. dev. of 7 runs, 10000 loops each)\n",
      "\n",
      "SciPy Sparse\n",
      "5.93 µs ± 30.3 ns per loop (mean ± std. dev. of 7 runs, 100000 loops each)\n",
      "\n",
      "tabmat CategoricalMatrix\n",
      "8.23 µs ± 284 ns per loop (mean ± std. dev. of 7 runs, 100000 loops each)\n",
      "\n",
      "Aesara dot\n",
      "101 µs ± 2.12 µs per loop (mean ± std. dev. of 7 runs, 10000 loops each)\n",
      "\n",
      "Aesara sparse dot\n",
      "36 µs ± 228 ns per loop (mean ± std. dev. of 7 runs, 10000 loops each)\n"
     ]
    }
   ],
   "source": [
    "print(\"Matrix\")\n",
    "%timeit matrix.dot(y)\n",
    "\n",
    "print(\"\\nBinary Matrix\")\n",
    "%timeit binary_matrix.dot(y)\n",
    "\n",
    "print(\"\\nSingle Binary Matrix\")\n",
    "%timeit single_binary_matrix.dot(y)\n",
    "\n",
    "print(\"\\nNumPy dense\")\n",
    "%timeit X.dot(y)\n",
    "\n",
    "print(\"\\nSciPy Sparse\")\n",
    "%timeit X_sp.dot(y)\n",
    "\n",
    "print(\"\\ntabmat CategoricalMatrix\")\n",
    "%timeit tbmat.matvec(y)\n",
    "\n",
    "print(\"\\nAesara dot\")\n",
    "%timeit aet_dot(X, y)\n",
    "\n",
    "print(\"\\nAesara sparse dot\")\n",
    "%timeit aet_sparse_dot(X_sp, y[:, None])"
   ]
  },
  {
   "cell_type": "code",
   "execution_count": 8,
   "metadata": {},
   "outputs": [
    {
     "name": "stdout",
     "output_type": "stream",
     "text": [
      "Matrix\n",
      "15.3 µs ± 51.8 ns per loop (mean ± std. dev. of 7 runs, 100000 loops each)\n",
      "\n",
      "Binary Matrix\n",
      "11.3 µs ± 85.9 ns per loop (mean ± std. dev. of 7 runs, 100000 loops each)\n",
      "\n",
      "Single Binary Matrix\n",
      "7.87 µs ± 55.6 ns per loop (mean ± std. dev. of 7 runs, 100000 loops each)\n",
      "\n",
      "NumPy dense\n",
      "1.38 ms ± 66.8 µs per loop (mean ± std. dev. of 7 runs, 1000 loops each)\n",
      "\n",
      "SciPy Sparse\n",
      "21.2 µs ± 104 ns per loop (mean ± std. dev. of 7 runs, 10000 loops each)\n",
      "\n",
      "tabmat CategoricalMatrix\n",
      "13.5 µs ± 650 ns per loop (mean ± std. dev. of 7 runs, 100000 loops each)\n",
      "\n",
      "Aesara dot\n",
      "1.71 ms ± 19 µs per loop (mean ± std. dev. of 7 runs, 1000 loops each)\n",
      "\n",
      "Aesara sparse dot\n",
      "52.4 µs ± 527 ns per loop (mean ± std. dev. of 7 runs, 10000 loops each)\n"
     ]
    }
   ],
   "source": [
    "x = np.random.choice(strings, size=10_000)\n",
    "X = np.asarray(pd.get_dummies(x))\n",
    "X_sp = sp.csr_matrix(X)\n",
    "matrix = Matrix(X)\n",
    "binary_matrix = BinaryMatrix(X)\n",
    "single_binary_matrix = SingleBinaryMatrix(X)\n",
    "tbmat = CategoricalMatrix(x)\n",
    "\n",
    "print(\"Matrix\")\n",
    "%timeit matrix.dot(y)\n",
    "\n",
    "print(\"\\nBinary Matrix\")\n",
    "%timeit binary_matrix.dot(y)\n",
    "\n",
    "print(\"\\nSingle Binary Matrix\")\n",
    "%timeit single_binary_matrix.dot(y)\n",
    "\n",
    "print(\"\\nNumPy dense\")\n",
    "%timeit X.dot(y)\n",
    "\n",
    "print(\"\\nSciPy Sparse\")\n",
    "%timeit X_sp.dot(y)\n",
    "\n",
    "print(\"\\ntabmat CategoricalMatrix\")\n",
    "%timeit tbmat.matvec(y)\n",
    "\n",
    "print(\"\\nAesara dot\")\n",
    "%timeit aet_dot(X, y)\n",
    "\n",
    "print(\"\\nAesara sparse dot\")\n",
    "%timeit aet_sparse_dot(X_sp, y[:, None])"
   ]
  },
  {
   "cell_type": "code",
   "execution_count": 9,
   "metadata": {},
   "outputs": [
    {
     "name": "stdout",
     "output_type": "stream",
     "text": [
      "Matrix\n",
      "141 µs ± 1.91 µs per loop (mean ± std. dev. of 7 runs, 10000 loops each)\n",
      "\n",
      "Binary Matrix\n",
      "101 µs ± 1.51 µs per loop (mean ± std. dev. of 7 runs, 10000 loops each)\n",
      "\n",
      "Single Binary Matrix\n",
      "67.6 µs ± 313 ns per loop (mean ± std. dev. of 7 runs, 10000 loops each)\n",
      "\n",
      "NumPy dense\n",
      "19.9 ms ± 555 µs per loop (mean ± std. dev. of 7 runs, 100 loops each)\n",
      "\n",
      "SciPy Sparse\n",
      "177 µs ± 927 ns per loop (mean ± std. dev. of 7 runs, 10000 loops each)\n",
      "\n",
      "tabmat CategoricalMatrix\n",
      "51.3 µs ± 4.21 µs per loop (mean ± std. dev. of 7 runs, 10000 loops each)\n",
      "\n",
      "Aesara dot\n",
      "23.1 ms ± 892 µs per loop (mean ± std. dev. of 7 runs, 10 loops each)\n",
      "\n",
      "Aesara sparse dot\n",
      "237 µs ± 10.2 µs per loop (mean ± std. dev. of 7 runs, 1000 loops each)\n"
     ]
    }
   ],
   "source": [
    "x = np.random.choice(strings, size=100_000)\n",
    "X = np.asarray(pd.get_dummies(x))\n",
    "X_sp = sp.csr_matrix(X)\n",
    "matrix = Matrix(X)\n",
    "binary_matrix = BinaryMatrix(X)\n",
    "single_binary_matrix = SingleBinaryMatrix(X)\n",
    "tbmat = CategoricalMatrix(x)\n",
    "\n",
    "print(\"Matrix\")\n",
    "%timeit matrix.dot(y)\n",
    "\n",
    "print(\"\\nBinary Matrix\")\n",
    "%timeit binary_matrix.dot(y)\n",
    "\n",
    "print(\"\\nSingle Binary Matrix\")\n",
    "%timeit single_binary_matrix.dot(y)\n",
    "\n",
    "print(\"\\nNumPy dense\")\n",
    "%timeit X.dot(y)\n",
    "\n",
    "print(\"\\nSciPy Sparse\")\n",
    "%timeit X_sp.dot(y)\n",
    "\n",
    "print(\"\\ntabmat CategoricalMatrix\")\n",
    "%timeit tbmat.matvec(y)\n",
    "\n",
    "print(\"\\nAesara dot\")\n",
    "%timeit aet_dot(X, y)\n",
    "\n",
    "print(\"\\nAesara sparse dot\")\n",
    "%timeit aet_sparse_dot(X_sp, y[:, None])"
   ]
  },
  {
   "cell_type": "code",
   "execution_count": 10,
   "metadata": {},
   "outputs": [
    {
     "name": "stdout",
     "output_type": "stream",
     "text": [
      "Matrix\n",
      "3.33 ms ± 16.4 µs per loop (mean ± std. dev. of 7 runs, 100 loops each)\n",
      "\n",
      "Binary Matrix\n",
      "2.3 ms ± 18.7 µs per loop (mean ± std. dev. of 7 runs, 100 loops each)\n",
      "\n",
      "Single Binary Matrix\n",
      "1.98 ms ± 5.5 µs per loop (mean ± std. dev. of 7 runs, 1000 loops each)\n",
      "\n",
      "NumPy dense\n",
      "192 ms ± 598 µs per loop (mean ± std. dev. of 7 runs, 10 loops each)\n",
      "\n",
      "SciPy Sparse\n",
      "3.3 ms ± 27.1 µs per loop (mean ± std. dev. of 7 runs, 100 loops each)\n",
      "\n",
      "tabmat CategoricalMatrix\n",
      "1.99 ms ± 112 µs per loop (mean ± std. dev. of 7 runs, 100 loops each)\n",
      "\n",
      "Aesara dot\n",
      "278 ms ± 2.95 ms per loop (mean ± std. dev. of 7 runs, 1 loop each)\n",
      "\n",
      "Aesara sparse dot\n",
      "3.41 ms ± 10.1 µs per loop (mean ± std. dev. of 7 runs, 100 loops each)\n"
     ]
    }
   ],
   "source": [
    "x = np.random.choice(strings, size=1_000_000)\n",
    "X = np.asarray(pd.get_dummies(x))\n",
    "X_sp = sp.csr_matrix(X)\n",
    "matrix = Matrix(X)\n",
    "binary_matrix = BinaryMatrix(X)\n",
    "single_binary_matrix = SingleBinaryMatrix(X)\n",
    "tbmat = CategoricalMatrix(x)\n",
    "\n",
    "\n",
    "print(\"Matrix\")\n",
    "%timeit matrix.dot(y)\n",
    "\n",
    "print(\"\\nBinary Matrix\")\n",
    "%timeit binary_matrix.dot(y)\n",
    "\n",
    "print(\"\\nSingle Binary Matrix\")\n",
    "%timeit single_binary_matrix.dot(y)\n",
    "\n",
    "print(\"\\nNumPy dense\")\n",
    "%timeit X.dot(y)\n",
    "\n",
    "print(\"\\nSciPy Sparse\")\n",
    "%timeit X_sp.dot(y)\n",
    "\n",
    "print(\"\\ntabmat CategoricalMatrix\")\n",
    "%timeit tbmat.matvec(y)\n",
    "\n",
    "print(\"\\nAesara dot\")\n",
    "%timeit aet_dot(X, y)\n",
    "\n",
    "print(\"\\nAesara sparse dot\")\n",
    "%timeit aet_sparse_dot(X_sp, y[:, None])"
   ]
  },
  {
   "cell_type": "code",
   "execution_count": 11,
   "metadata": {},
   "outputs": [
    {
     "name": "stdout",
     "output_type": "stream",
     "text": [
      "Matrix\n",
      "62.9 ms ± 190 µs per loop (mean ± std. dev. of 7 runs, 10 loops each)\n",
      "\n",
      "Binary Matrix\n",
      "46.2 ms ± 961 µs per loop (mean ± std. dev. of 7 runs, 10 loops each)\n",
      "\n",
      "Single Binary Matrix\n",
      "32.6 ms ± 1.36 ms per loop (mean ± std. dev. of 7 runs, 10 loops each)\n",
      "\n",
      "NumPy dense\n",
      "1.94 s ± 41.2 ms per loop (mean ± std. dev. of 7 runs, 1 loop each)\n",
      "\n",
      "SciPy Sparse\n",
      "65.5 ms ± 2.41 ms per loop (mean ± std. dev. of 7 runs, 10 loops each)\n",
      "\n",
      "tabmat CategoricalMatrix\n",
      "33.3 ms ± 195 µs per loop (mean ± std. dev. of 7 runs, 10 loops each)\n",
      "\n",
      "Aesara dot\n",
      "2.68 s ± 64.6 ms per loop (mean ± std. dev. of 7 runs, 1 loop each)\n",
      "\n",
      "Aesara sparse dot\n",
      "62.6 ms ± 182 µs per loop (mean ± std. dev. of 7 runs, 10 loops each)\n"
     ]
    }
   ],
   "source": [
    "x = np.random.choice(strings, size=10_000_000)\n",
    "X = np.asarray(pd.get_dummies(x))\n",
    "X_sp = sp.csr_matrix(X)\n",
    "matrix = Matrix(X)\n",
    "binary_matrix = BinaryMatrix(X)\n",
    "single_binary_matrix = SingleBinaryMatrix(X)\n",
    "tbmat = CategoricalMatrix(x)\n",
    "\n",
    "\n",
    "print(\"Matrix\")\n",
    "%timeit matrix.dot(y)\n",
    "\n",
    "print(\"\\nBinary Matrix\")\n",
    "%timeit binary_matrix.dot(y)\n",
    "\n",
    "print(\"\\nSingle Binary Matrix\")\n",
    "%timeit single_binary_matrix.dot(y)\n",
    "\n",
    "print(\"\\nNumPy dense\")\n",
    "%timeit X.dot(y)\n",
    "\n",
    "print(\"\\nSciPy Sparse\")\n",
    "%timeit X_sp.dot(y)\n",
    "\n",
    "print(\"\\ntabmat CategoricalMatrix\")\n",
    "%timeit tbmat.matvec(y)\n",
    "\n",
    "print(\"\\nAesara dot\")\n",
    "%timeit aet_dot(X, y)\n",
    "\n",
    "print(\"\\nAesara sparse dot\")\n",
    "%timeit aet_sparse_dot(X_sp, y[:, None])"
   ]
  }
 ],
 "metadata": {
  "interpreter": {
   "hash": "3fb55a5ee3f39f92efc764f94bee8d23b2d6c27a57dd0a3970937cfa1b6f6994"
  },
  "kernelspec": {
   "display_name": "Python 3.8.5 64-bit ('bmb': conda)",
   "language": "python",
   "name": "python3"
  },
  "language_info": {
   "codemirror_mode": {
    "name": "ipython",
    "version": 3
   },
   "file_extension": ".py",
   "mimetype": "text/x-python",
   "name": "python",
   "nbconvert_exporter": "python",
   "pygments_lexer": "ipython3",
   "version": "3.9.7"
  },
  "orig_nbformat": 4
 },
 "nbformat": 4,
 "nbformat_minor": 2
}
