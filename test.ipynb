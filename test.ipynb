{
 "cells": [
  {
   "cell_type": "code",
   "execution_count": 1,
   "metadata": {},
   "outputs": [],
   "source": [
    "import string\n",
    "\n",
    "import aesara\n",
    "import aesara.sparse\n",
    "import aesara.tensor as aet\n",
    "import numpy as np\n",
    "import pandas as pd\n",
    "import scipy.sparse as sp\n",
    "\n",
    "from tabmat import CategoricalMatrix\n",
    "\n",
    "import sparsedot"
   ]
  },
  {
   "cell_type": "code",
   "execution_count": 20,
   "metadata": {},
   "outputs": [],
   "source": [
    "X = np.array(\n",
    "    [\n",
    "        [1, 2, 0, 11, 0],\n",
    "        [0, 4, 5, 0, 0],\n",
    "        [0, 5, 6, 7, 0],\n",
    "        [0, 0, 0, 8, 0],\n",
    "        [0, 0, 0, 9, 10],\n",
    "    ]\n",
    ")\n",
    "X_sp = sp.csr_matrix(X)\n",
    "offset = X_sp.indptr\n",
    "column = X_sp.indices\n",
    "value = X_sp.data"
   ]
  },
  {
   "cell_type": "code",
   "execution_count": 21,
   "metadata": {},
   "outputs": [
    {
     "name": "stdout",
     "output_type": "stream",
     "text": [
      "[ -3.4005539    1.33146665   0.44659992  -1.01147474 -11.51043516]\n",
      "[ -3.4005539    1.33146665   0.44659992  -1.01147474 -11.51043516]\n"
     ]
    }
   ],
   "source": [
    "vector = np.random.normal(size=5)\n",
    "result = np.zeros(5)\n",
    "print(sparsedot.matrix_vector(offset, column, value, vector, result))\n",
    "print(X.dot(vector))\n"
   ]
  },
  {
   "cell_type": "markdown",
   "metadata": {},
   "source": [
    "`binarydot` implements a C function using the NumPy C-API that carries out multiplication between binary matrices and column vectors. This type of multiplication happens very often when doing statistics...\n",
    "\n",
    "So far, this only works for the particular case where the design matrix is of the type\n",
    "\n",
    "$$\n",
    "\\begin{pmatrix}\n",
    "1 & 0 & \\cdots & 1 & 0 \\\\\n",
    "1 & 0 & \\cdots & 0 & 1 \\\\\n",
    "1 & 1 & \\cdots & 0 & 0 \\\\\n",
    "\\vdots & \\vdots & \\cdots & \\vdots & \\vdots\\\\\n",
    "0 & 0 & \\cdots & 0 & 1\n",
    "\\end{pmatrix}\n",
    "$$"
   ]
  },
  {
   "cell_type": "code",
   "execution_count": 3,
   "metadata": {},
   "outputs": [
    {
     "data": {
      "text/plain": [
       "array([-1.20427091, -1.63900486, -0.42584969, -0.74500956,  1.25061673,\n",
       "       -3.16130481,  2.77291668,  1.25061673,  2.77291668, -0.48267259])"
      ]
     },
     "execution_count": 3,
     "metadata": {},
     "output_type": "execute_result"
    }
   ],
   "source": [
    "import formulae\n",
    "\n",
    "rng = np.random.default_rng(1234)\n",
    "\n",
    "x = rng.choice([\"A\", \"B\", \"C\"], size=10)\n",
    "y = rng.choice([\"X\", \"Y\", \"Z\"], size=10)\n",
    "z = rng.choice([\"M\", \"N\", \"O\"], size=10)\n",
    "df = pd.DataFrame({\"x\": x, \"y\": y, \"z\": z})\n",
    "\n",
    "X = formulae.design_matrices(\"0 + x + y + z\", df).common.design_matrix\n",
    "\n",
    "X_indices = np.ascontiguousarray(np.vstack(np.where(X != 0)).T).astype(np.int32)\n",
    "vector = rng.normal(size=X.shape[1])\n",
    "result = np.zeros(X.shape[0], dtype=float)\n",
    "\n",
    "sparsedot.binary_matrix_vector(X_indices, vector, result)"
   ]
  },
  {
   "cell_type": "code",
   "execution_count": 4,
   "metadata": {},
   "outputs": [
    {
     "data": {
      "text/plain": [
       "104"
      ]
     },
     "execution_count": 4,
     "metadata": {},
     "output_type": "execute_result"
    }
   ],
   "source": [
    "# The \"categorical variables\"\n",
    "strings = list(string.ascii_lowercase) + list(string.ascii_uppercase)\n",
    "strings += [s * 2 for s in strings]\n",
    "len(strings)"
   ]
  },
  {
   "cell_type": "code",
   "execution_count": 5,
   "metadata": {},
   "outputs": [],
   "source": [
    "class ZeroOneMatrix:\n",
    "    \"\"\"\n",
    "    length: The number of non-zero elements\n",
    "    X_indices: The positions of the non-zero elements\n",
    "    \"\"\"\n",
    "    def __init__(self, X):\n",
    "        # The argument X is a dense array. \n",
    "        # We could use a sparse repr, but I don't know if it implies a gain in our use case.\n",
    "        self.length = X.shape[0]\n",
    "        self.X_indices = np.ascontiguousarray(np.vstack(np.where(X != 0)).T).astype(np.int32)\n",
    "        \n",
    "    def dot(self, other):\n",
    "        result = np.zeros(self.length, dtype=other.dtype)\n",
    "        sparsedot.binary_matrix_vector(self.X_indices, other, result)\n",
    "        return result"
   ]
  },
  {
   "cell_type": "code",
   "execution_count": 17,
   "metadata": {},
   "outputs": [],
   "source": [
    "x = np.random.choice(strings, size=1000)\n",
    "\n",
    "matrix_dense = np.asarray(pd.get_dummies(x))\n",
    "matrix_sparse = sp.csr_matrix(matrix_dense)\n",
    "zero_one_matrix = ZeroOneMatrix(matrix_dense)\n",
    "sp_matrix = sp.csr_matrix(matrix_dense)\n",
    "tbmat = CategoricalMatrix(x)\n",
    "y = np.arange(len(strings), dtype=np.float64)"
   ]
  },
  {
   "cell_type": "markdown",
   "metadata": {},
   "source": [
    "Defining Aesara functions..."
   ]
  },
  {
   "cell_type": "code",
   "execution_count": 19,
   "metadata": {},
   "outputs": [],
   "source": [
    "aet_x = aet.dmatrix(\"x\")\n",
    "aet_y = aet.dvector(\"y\")\n",
    "aet_Y = aet.dmatrix(\"y\")\n",
    "\n",
    "x_sparse = aesara.sparse.CSR(sp_matrix.data, sp_matrix.indices, sp_matrix.indptr, sp_matrix.shape)\n",
    "\n",
    "aet_dot = aesara.function([aet_x, aet_y], aet.dot(aet_x, aet_y))\n",
    "aet_sparse_dot = aesara.function([x_sparse, aet_Y], aesara.sparse.structured_dot(x_sparse, aet_Y))"
   ]
  },
  {
   "cell_type": "code",
   "execution_count": 20,
   "metadata": {},
   "outputs": [
    {
     "name": "stdout",
     "output_type": "stream",
     "text": [
      "2.27 µs ± 8.81 ns per loop (mean ± std. dev. of 7 runs, 100000 loops each)\n",
      "2.39 µs ± 7.48 ns per loop (mean ± std. dev. of 7 runs, 100000 loops each)\n",
      "77.4 µs ± 4.62 µs per loop (mean ± std. dev. of 7 runs, 10000 loops each)\n",
      "5.79 µs ± 17.3 ns per loop (mean ± std. dev. of 7 runs, 100000 loops each)\n",
      "9.75 µs ± 931 ns per loop (mean ± std. dev. of 7 runs, 100000 loops each)\n",
      "101 µs ± 236 ns per loop (mean ± std. dev. of 7 runs, 10000 loops each)\n",
      "33.7 µs ± 59.2 ns per loop (mean ± std. dev. of 7 runs, 10000 loops each)\n"
     ]
    }
   ],
   "source": [
    "%timeit zero_one_matrix.dot(y)\n",
    "%timeit matrix_dense.dot(y)\n",
    "%timeit sp_matrix.dot(y)\n",
    "%timeit tbmat.matvec(y)\n",
    "%timeit aet_dot(matrix_dense, y)\n",
    "%timeit aet_sparse_dot(sp_matrix, y[:, None])"
   ]
  },
  {
   "cell_type": "code",
   "execution_count": 22,
   "metadata": {},
   "outputs": [
    {
     "name": "stdout",
     "output_type": "stream",
     "text": [
      "99.6 µs ± 1.92 µs per loop (mean ± std. dev. of 7 runs, 10000 loops each)\n",
      "271 µs ± 397 ns per loop (mean ± std. dev. of 7 runs, 1000 loops each)\n",
      "20.6 ms ± 1.03 ms per loop (mean ± std. dev. of 7 runs, 10 loops each)\n",
      "190 µs ± 4.52 µs per loop (mean ± std. dev. of 7 runs, 1000 loops each)\n",
      "57.4 µs ± 740 ns per loop (mean ± std. dev. of 7 runs, 10000 loops each)\n",
      "22.3 ms ± 303 µs per loop (mean ± std. dev. of 7 runs, 10 loops each)\n",
      "258 µs ± 14.5 µs per loop (mean ± std. dev. of 7 runs, 1000 loops each)\n"
     ]
    }
   ],
   "source": [
    "x = np.random.choice(strings, size=100000)\n",
    "matrix_dense = np.asarray(pd.get_dummies(x))\n",
    "matrix_sparse = sp.csr_matrix(matrix_dense)\n",
    "\n",
    "zero_one_matrix = ZeroOneMatrix(matrix_dense)\n",
    "sp_matrix = sp.csr_matrix(matrix_dense)\n",
    "tbmat = CategoricalMatrix(x)\n",
    "\n",
    "%timeit zero_one_matrix.dot(y)\n",
    "%timeit matrix_dense.dot(y)\n",
    "%timeit sp_matrix.dot(y)\n",
    "%timeit tbmat.matvec(y)\n",
    "%timeit aet_dot(matrix_dense, y)\n",
    "%timeit aet_sparse_dot(sp_matrix, y[:, None])"
   ]
  },
  {
   "cell_type": "code",
   "execution_count": 23,
   "metadata": {},
   "outputs": [
    {
     "name": "stdout",
     "output_type": "stream",
     "text": [
      "39.1 ms ± 267 µs per loop (mean ± std. dev. of 7 runs, 10 loops each)\n",
      "51.2 ms ± 585 µs per loop (mean ± std. dev. of 7 runs, 10 loops each)\n",
      "1.86 s ± 73.9 ms per loop (mean ± std. dev. of 7 runs, 1 loop each)\n",
      "62.3 ms ± 2.66 ms per loop (mean ± std. dev. of 7 runs, 10 loops each)\n",
      "31.6 ms ± 2.14 ms per loop (mean ± std. dev. of 7 runs, 10 loops each)\n",
      "2.67 s ± 92.5 ms per loop (mean ± std. dev. of 7 runs, 1 loop each)\n",
      "63.5 ms ± 671 µs per loop (mean ± std. dev. of 7 runs, 10 loops each)\n"
     ]
    }
   ],
   "source": [
    "x = np.random.choice(strings, size=10000000)\n",
    "matrix_dense = np.asarray(pd.get_dummies(x))\n",
    "matrix_sparse = sp.csr_matrix(matrix_dense)\n",
    "\n",
    "zero_one_matrix = ZeroOneMatrix(matrix_dense)\n",
    "sp_matrix = sp.csr_matrix(matrix_dense)\n",
    "tbmat = CategoricalMatrix(x)\n",
    "\n",
    "%timeit zero_one_matrix.dot(y)\n",
    "%timeit matrix_dense.dot(y)\n",
    "%timeit sp_matrix.dot(y)\n",
    "%timeit tbmat.matvec(y)\n",
    "%timeit aet_dot(matrix_dense, y)\n",
    "%timeit aet_sparse_dot(sp_matrix, y[:, None])"
   ]
  }
 ],
 "metadata": {
  "interpreter": {
   "hash": "3fb55a5ee3f39f92efc764f94bee8d23b2d6c27a57dd0a3970937cfa1b6f6994"
  },
  "kernelspec": {
   "display_name": "Python 3.8.5 64-bit ('bmb': conda)",
   "language": "python",
   "name": "python3"
  },
  "language_info": {
   "codemirror_mode": {
    "name": "ipython",
    "version": 3
   },
   "file_extension": ".py",
   "mimetype": "text/x-python",
   "name": "python",
   "nbconvert_exporter": "python",
   "pygments_lexer": "ipython3",
   "version": "3.9.7"
  },
  "orig_nbformat": 4
 },
 "nbformat": 4,
 "nbformat_minor": 2
}
