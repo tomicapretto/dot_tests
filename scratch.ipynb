{
 "cells": [
  {
   "cell_type": "code",
   "execution_count": 37,
   "metadata": {},
   "outputs": [],
   "source": [
    "import theano\n",
    "\n",
    "import theano.scalar as ts\n",
    "from theano.graph.basic import Apply, Constant, Variable\n",
    "from theano.graph.op import COp, Op\n",
    "from theano.misc.safe_asarray import _asarray\n",
    "from theano.sparse.type import SparseType, _is_sparse\n",
    "from theano.sparse import as_sparse_variable, structured_dot_grad\n",
    "\n",
    "from theano.tensor.type import TensorType\n",
    "\n",
    "from scipy.sparse import csr_matrix, csc_matrix"
   ]
  },
  {
   "cell_type": "code",
   "execution_count": 18,
   "metadata": {},
   "outputs": [
    {
     "data": {
      "text/plain": [
       "52"
      ]
     },
     "execution_count": 18,
     "metadata": {},
     "output_type": "execute_result"
    }
   ],
   "source": [
    "import string\n",
    "\n",
    "import numpy as np\n",
    "import pandas as pd\n",
    "\n",
    "import sparsedot\n",
    "\n",
    "# The \"categorical variables\"\n",
    "strings = list(string.ascii_lowercase) + list(string.ascii_uppercase)\n",
    "len(strings)"
   ]
  },
  {
   "cell_type": "code",
   "execution_count": 65,
   "metadata": {},
   "outputs": [],
   "source": [
    "data = pd.DataFrame(\n",
    "    {\n",
    "        \"y\": np.random.normal(size=10000),\n",
    "        \"x\": np.random.choice(strings, size=10000)\n",
    "    }\n",
    ")\n",
    "\n",
    "X = np.asarray(pd.get_dummies(data[\"x\"]))\n",
    "X_sp = csr_matrix(X)"
   ]
  },
  {
   "cell_type": "code",
   "execution_count": 20,
   "metadata": {},
   "outputs": [
    {
     "data": {
      "text/plain": [
       "'csr'"
      ]
     },
     "execution_count": 20,
     "metadata": {},
     "output_type": "execute_result"
    }
   ],
   "source": [
    "X_sp.format"
   ]
  },
  {
   "cell_type": "code",
   "execution_count": 4,
   "metadata": {},
   "outputs": [],
   "source": [
    "def tensor(*args, **kwargs):\n",
    "    name = kwargs.pop(\"name\", None)\n",
    "    return TensorType(*args, **kwargs)(name=name)"
   ]
  },
  {
   "cell_type": "code",
   "execution_count": 5,
   "metadata": {},
   "outputs": [],
   "source": [
    "#def structured_dot_grad(X, b, ga):\n",
    "    # X: Sparse CSR\n",
    "    # b: 1d dense\n",
    "    \n",
    "#    sdgcsx = sdg_csr\n",
    "#    CSx = CSR\n",
    "\n",
    "#g_A_data = sdgcsx(csm_indices(sparse_A), csm_indptr(sparse_A), dense_B, ga)\n",
    "#    return CSx(g_A_data, csm_indices(sparse_A), csm_indptr(sparse_A), csm_shape(sparse_A))"
   ]
  },
  {
   "cell_type": "code",
   "execution_count": 71,
   "metadata": {},
   "outputs": [],
   "source": [
    "class StructuredDot(Op):\n",
    "    __props__ = ()\n",
    "\n",
    "    def make_node(self, a, b):\n",
    "        a = as_sparse_variable(a)\n",
    "        assert a.format in (\"csr\", \"csc\", \"bsr\")\n",
    "\n",
    "        dtype_out = ts.upcast(a.type.dtype, b.type.dtype)\n",
    "        if b.type.ndim != 2:\n",
    "            raise NotImplementedError(\"non-vector b\")\n",
    "\n",
    "        return Apply(self, [a, b], [tensor(dtype_out, (False, b.type.broadcastable[1]))])\n",
    "\n",
    "    def perform(self, node, inputs, outputs):\n",
    "        (X, b) = inputs\n",
    "        (out,) = outputs\n",
    "        \n",
    "        \n",
    "        if X.shape[1] != b.shape[0]:\n",
    "            raise ValueError(\"shape mismatch in StructuredDot.perform\", (X.shape, b.shape))\n",
    "\n",
    "        # TODO: Necesitamos un algoritmo como 'matrix_vector' pero en C que calcule el \n",
    "        # producto entre matriz y vector en formato CSC\n",
    "        if X.format == \"csc\":\n",
    "            variable = X * b\n",
    "        else: \n",
    "            offset = X.indptr\n",
    "            column = X.indices\n",
    "            value = X.data\n",
    "            length = X.shape[0]\n",
    "            result = np.zeros(length, dtype=b.dtype)\n",
    "            variable = sparsedot.matrix_vector(offset, column, value, b.flatten(), result)[:, None]\n",
    "       \n",
    "    \n",
    "        if isinstance(node.outputs[0].type, SparseType):\n",
    "            assert _is_sparse(variable)\n",
    "            out[0] = variable\n",
    "            return\n",
    "\n",
    "        # dot of an NxM sparse matrix, with a Mx1 dense matrix, returns vector\n",
    "        # not matrix\n",
    "        if variable.ndim == 1:\n",
    "            variable = np.expand_dims(variable, 1)\n",
    "        elif variable.ndim != 2:\n",
    "            raise Exception(\"Output of structured dot should be a matrix \" \"(ndim=2)\")\n",
    "\n",
    "        assert variable.ndim == 2\n",
    "\n",
    "        if variable.shape != (X.shape[0], b.shape[1]):\n",
    "            if b.shape[0] == 1:\n",
    "                raise Exception(\n",
    "                    f\"a.shape={X.shape}, b.shape={b.shape}, \"\n",
    "                    f\"variable.shape={variable.shape}?  This is probably \"\n",
    "                    \"because scipy.csc_matrix.dot has a bug \"\n",
    "                    \"with singleton dimensions (i.e. \"\n",
    "                    \"b.shape[0]=1) in SciPy 0.6.  Use SciPy \"\n",
    "                    f\"0.7.  (You have SciPy version)\"\n",
    "                )\n",
    "            else:\n",
    "                raise Exception(\n",
    "                    f\"a.shape={X.shape}, b.shape={b.shape}, variable.shape={variable.shape}?\"\n",
    "                )\n",
    "       \n",
    "        out[0] = _asarray(variable, str(variable.dtype))\n",
    "        \n",
    "        return None\n",
    "        \n",
    "    def grad(self, inputs, gout):\n",
    "        # a is sparse, b is dense, g_out is dense\n",
    "        # ga = g_out x b.T\n",
    "        # gb = a.T x g_out\n",
    "        (X, b) = inputs\n",
    "        (g_out,) = gout\n",
    "        return [structured_dot_grad(X, b, g_out), structured_dot(X.T, g_out)]\n",
    "\n",
    "    def infer_shape(self, fgraph, node, shapes):\n",
    "        return [(shapes[0][0], shapes[1][1])]\n",
    "\n",
    "structured_dot = StructuredDot()"
   ]
  },
  {
   "cell_type": "code",
   "execution_count": 72,
   "metadata": {},
   "outputs": [],
   "source": [
    "import pymc3 as pm"
   ]
  },
  {
   "cell_type": "code",
   "execution_count": 73,
   "metadata": {},
   "outputs": [
    {
     "name": "stderr",
     "output_type": "stream",
     "text": [
      "Auto-assigning NUTS sampler...\n",
      "Initializing NUTS using jitter+adapt_diag...\n",
      "Multiprocess sampling (2 chains in 2 jobs)\n",
      "NUTS: [sigma, b]\n"
     ]
    },
    {
     "data": {
      "text/html": [
       "\n",
       "    <div>\n",
       "        <style>\n",
       "            /* Turns off some styling */\n",
       "            progress {\n",
       "                /* gets rid of default border in Firefox and Opera. */\n",
       "                border: none;\n",
       "                /* Needs to be in here for Safari polyfill so background images work as expected. */\n",
       "                background-size: auto;\n",
       "            }\n",
       "            .progress-bar-interrupted, .progress-bar-interrupted::-webkit-progress-bar {\n",
       "                background: #F44336;\n",
       "            }\n",
       "        </style>\n",
       "      <progress value='4000' class='' max='4000' style='width:300px; height:20px; vertical-align: middle;'></progress>\n",
       "      100.00% [4000/4000 00:06<00:00 Sampling 2 chains, 0 divergences]\n",
       "    </div>\n",
       "    "
      ],
      "text/plain": [
       "<IPython.core.display.HTML object>"
      ]
     },
     "metadata": {},
     "output_type": "display_data"
    },
    {
     "name": "stderr",
     "output_type": "stream",
     "text": [
      "Sampling 2 chains for 1_000 tune and 1_000 draw iterations (2_000 + 2_000 draws total) took 6 seconds.\n"
     ]
    }
   ],
   "source": [
    "with pm.Model() as model:\n",
    "    b = pm.Normal(\"b\", shape=52)\n",
    "    sigma = pm.Exponential(\"sigma\", lam=1)\n",
    "    mu = theano.sparse.structured_dot(csr_matrix(X), b[:, None]).flatten()\n",
    "    pm.Normal(\"y\", mu=mu, sigma=sigma, observed=data[\"y\"])\n",
    "    \n",
    "with model:\n",
    "    idata = pm.sample(return_inferencedata=True)"
   ]
  },
  {
   "cell_type": "code",
   "execution_count": 74,
   "metadata": {},
   "outputs": [
    {
     "name": "stderr",
     "output_type": "stream",
     "text": [
      "Auto-assigning NUTS sampler...\n",
      "Initializing NUTS using jitter+adapt_diag...\n",
      "Multiprocess sampling (2 chains in 2 jobs)\n",
      "NUTS: [sigma, b]\n"
     ]
    },
    {
     "data": {
      "text/html": [
       "\n",
       "    <div>\n",
       "        <style>\n",
       "            /* Turns off some styling */\n",
       "            progress {\n",
       "                /* gets rid of default border in Firefox and Opera. */\n",
       "                border: none;\n",
       "                /* Needs to be in here for Safari polyfill so background images work as expected. */\n",
       "                background-size: auto;\n",
       "            }\n",
       "            .progress-bar-interrupted, .progress-bar-interrupted::-webkit-progress-bar {\n",
       "                background: #F44336;\n",
       "            }\n",
       "        </style>\n",
       "      <progress value='4000' class='' max='4000' style='width:300px; height:20px; vertical-align: middle;'></progress>\n",
       "      100.00% [4000/4000 00:06<00:00 Sampling 2 chains, 0 divergences]\n",
       "    </div>\n",
       "    "
      ],
      "text/plain": [
       "<IPython.core.display.HTML object>"
      ]
     },
     "metadata": {},
     "output_type": "display_data"
    },
    {
     "name": "stderr",
     "output_type": "stream",
     "text": [
      "Sampling 2 chains for 1_000 tune and 1_000 draw iterations (2_000 + 2_000 draws total) took 6 seconds.\n"
     ]
    }
   ],
   "source": [
    "with pm.Model() as model:\n",
    "    b = pm.Normal(\"b\", shape=52)\n",
    "    sigma = pm.Exponential(\"sigma\", lam=1)\n",
    "    mu = structured_dot(csr_matrix(X), b[:, None]).flatten()\n",
    "    pm.Normal(\"y\", mu=mu, sigma=sigma, observed=data[\"y\"])\n",
    "    \n",
    "with model:\n",
    "    idata = pm.sample(return_inferencedata=True)"
   ]
  }
 ],
 "metadata": {
  "interpreter": {
   "hash": "7d81eac69f79d44be1915dc1dc971e988fbe246220cf4ec03238081a6a0d994b"
  },
  "kernelspec": {
   "display_name": "Python 3.9.7 64-bit ('bmb-aesara': conda)",
   "language": "python",
   "name": "python3"
  },
  "language_info": {
   "codemirror_mode": {
    "name": "ipython",
    "version": 3
   },
   "file_extension": ".py",
   "mimetype": "text/x-python",
   "name": "python",
   "nbconvert_exporter": "python",
   "pygments_lexer": "ipython3",
   "version": "3.9.7"
  },
  "orig_nbformat": 4
 },
 "nbformat": 4,
 "nbformat_minor": 2
}
